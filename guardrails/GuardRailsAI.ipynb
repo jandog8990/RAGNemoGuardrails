{
 "cells": [
  {
   "cell_type": "code",
   "execution_count": 11,
   "id": "d957317d-cc09-4ad0-868e-11d6ae96276c",
   "metadata": {},
   "outputs": [],
   "source": [
    "import guardrails as guard\n",
    "from rich import print"
   ]
  },
  {
   "cell_type": "code",
   "execution_count": 12,
   "id": "91bb7762-3ea4-4dce-9e1b-680fe5d15c09",
   "metadata": {},
   "outputs": [],
   "source": [
    "from guardrails.utils import pydantic_utils"
   ]
  },
  {
   "cell_type": "code",
   "execution_count": 13,
   "id": "0134f95b-1b2f-434a-ba29-db3ff310ef47",
   "metadata": {},
   "outputs": [
    {
     "data": {
      "text/plain": [
       "['BaseModel',\n",
       " 'Dict',\n",
       " 'List',\n",
       " 'Type',\n",
       " 'Union',\n",
       " '__builtins__',\n",
       " '__cached__',\n",
       " '__doc__',\n",
       " '__file__',\n",
       " '__loader__',\n",
       " '__name__',\n",
       " '__package__',\n",
       " '__spec__',\n",
       " 'cast',\n",
       " 'convert_pydantic_model_to_openai_fn',\n",
       " 'get_args',\n",
       " 'get_origin',\n",
       " 'safe_get']"
      ]
     },
     "execution_count": 13,
     "metadata": {},
     "output_type": "execute_result"
    }
   ],
   "source": [
    "dir(pydantic_utils)"
   ]
  },
  {
   "cell_type": "code",
   "execution_count": 14,
   "id": "41ac78bf-ed41-4684-ba9e-a3a22561c2f2",
   "metadata": {},
   "outputs": [
    {
     "name": "stderr",
     "output_type": "stream",
     "text": [
      "<>:9: SyntaxWarning: invalid escape sequence '\\s'\n",
      "<>:10: SyntaxWarning: invalid escape sequence '\\.'\n",
      "<>:9: SyntaxWarning: invalid escape sequence '\\s'\n",
      "<>:10: SyntaxWarning: invalid escape sequence '\\.'\n",
      "/tmp/ipykernel_25472/4111106172.py:9: SyntaxWarning: invalid escape sequence '\\s'\n",
      "  NAME_REGEX = \"^[A-Z][a-z]+\\s[A-Z][a-z]+$\"\n",
      "/tmp/ipykernel_25472/4111106172.py:10: SyntaxWarning: invalid escape sequence '\\.'\n",
      "  EMAIL_REGEX = \"^[a-zA-Z0-9._%+-]+@[a-zA-Z0-9.-]+\\.[a-zA-Z]{2,}$\"\n"
     ]
    }
   ],
   "source": [
    "from pydantic import BaseModel, Field\n",
    "from guardrails.hub import RegexMatch\n",
    "\n",
    "NAME_REGEX = \"^[A-Z][a-z]+\\s[A-Z][a-z]+$\"\n",
    "EMAIL_REGEX = \"^[a-zA-Z0-9._%+-]+@[a-zA-Z0-9.-]+\\.[a-zA-Z]{2,}$\"\n",
    "\n",
    "class Data(BaseModel):\n",
    "    name: str = Field(validators=[RegexMatch(regex=NAME_REGEX)])\n",
    "    email: str = Field(validators=[RegexMatch(regex=EMAIL_REGEX)])\n"
   ]
  },
  {
   "cell_type": "code",
   "execution_count": 17,
   "id": "ed582310-2779-4b6f-8762-364d32ec9e31",
   "metadata": {},
   "outputs": [
    {
     "ename": "ValidationError",
     "evalue": "1 validation error for Inputs\nllm_output\n  Input should be a valid string [type=string_type, input_value={'name': 'John Doe', 'email': 'john@doe.com'}, input_type=dict]\n    For further information visit https://errors.pydantic.dev/2.9/v/string_type",
     "output_type": "error",
     "traceback": [
      "\u001b[0;31m---------------------------------------------------------------------------\u001b[0m",
      "\u001b[0;31mValidationError\u001b[0m                           Traceback (most recent call last)",
      "Cell \u001b[0;32mIn[17], line 8\u001b[0m\n\u001b[1;32m      3\u001b[0m data \u001b[38;5;241m=\u001b[39m {\n\u001b[1;32m      4\u001b[0m     \u001b[38;5;124m\"\u001b[39m\u001b[38;5;124mname\u001b[39m\u001b[38;5;124m\"\u001b[39m: \u001b[38;5;124m\"\u001b[39m\u001b[38;5;124mJohn Doe\u001b[39m\u001b[38;5;124m\"\u001b[39m,\n\u001b[1;32m      5\u001b[0m     \u001b[38;5;124m\"\u001b[39m\u001b[38;5;124memail\u001b[39m\u001b[38;5;124m\"\u001b[39m: \u001b[38;5;124m\"\u001b[39m\u001b[38;5;124mjohn@doe.com\u001b[39m\u001b[38;5;124m\"\u001b[39m\n\u001b[1;32m      6\u001b[0m }\n\u001b[1;32m      7\u001b[0m guard \u001b[38;5;241m=\u001b[39m Guard\u001b[38;5;241m.\u001b[39mfor_pydantic(Data)\n\u001b[0;32m----> 8\u001b[0m guard\u001b[38;5;241m.\u001b[39mvalidate(data)\n",
      "File \u001b[0;32m~/Development/anaconda3/envs/trailz-ai/lib/python3.12/site-packages/guardrails/hub_telemetry/hub_tracing.py:148\u001b[0m, in \u001b[0;36mtrace.<locals>.decorator.<locals>.wrapper\u001b[0;34m(*args, **kwargs)\u001b[0m\n\u001b[1;32m    145\u001b[0m \u001b[38;5;28;01mnonlocal\u001b[39;00m origin\n\u001b[1;32m    146\u001b[0m origin \u001b[38;5;241m=\u001b[39m origin \u001b[38;5;28;01mif\u001b[39;00m origin \u001b[38;5;129;01mis\u001b[39;00m \u001b[38;5;129;01mnot\u001b[39;00m \u001b[38;5;28;01mNone\u001b[39;00m \u001b[38;5;28;01melse\u001b[39;00m name\n\u001b[0;32m--> 148\u001b[0m resp \u001b[38;5;241m=\u001b[39m fn(\u001b[38;5;241m*\u001b[39margs, \u001b[38;5;241m*\u001b[39m\u001b[38;5;241m*\u001b[39mkwargs)\n\u001b[1;32m    149\u001b[0m add_attributes(\n\u001b[1;32m    150\u001b[0m     span, attrs, name, origin, \u001b[38;5;241m*\u001b[39margs, response\u001b[38;5;241m=\u001b[39mresp, \u001b[38;5;241m*\u001b[39m\u001b[38;5;241m*\u001b[39mkwargs\n\u001b[1;32m    151\u001b[0m )\n\u001b[1;32m    152\u001b[0m \u001b[38;5;28;01mreturn\u001b[39;00m resp\n",
      "File \u001b[0;32m~/Development/anaconda3/envs/trailz-ai/lib/python3.12/site-packages/guardrails/guard.py:1183\u001b[0m, in \u001b[0;36mGuard.validate\u001b[0;34m(self, llm_output, *args, **kwargs)\u001b[0m\n\u001b[1;32m   1181\u001b[0m \u001b[38;5;129m@trace\u001b[39m(name\u001b[38;5;241m=\u001b[39m\u001b[38;5;124m\"\u001b[39m\u001b[38;5;124m/guard_call\u001b[39m\u001b[38;5;124m\"\u001b[39m, origin\u001b[38;5;241m=\u001b[39m\u001b[38;5;124m\"\u001b[39m\u001b[38;5;124mGuard.validate\u001b[39m\u001b[38;5;124m\"\u001b[39m)\n\u001b[1;32m   1182\u001b[0m \u001b[38;5;28;01mdef\u001b[39;00m \u001b[38;5;21mvalidate\u001b[39m(\u001b[38;5;28mself\u001b[39m, llm_output: \u001b[38;5;28mstr\u001b[39m, \u001b[38;5;241m*\u001b[39margs, \u001b[38;5;241m*\u001b[39m\u001b[38;5;241m*\u001b[39mkwargs) \u001b[38;5;241m-\u001b[39m\u001b[38;5;241m>\u001b[39m ValidationOutcome[OT]:\n\u001b[0;32m-> 1183\u001b[0m     \u001b[38;5;28;01mreturn\u001b[39;00m \u001b[38;5;28mself\u001b[39m\u001b[38;5;241m.\u001b[39mparse(llm_output\u001b[38;5;241m=\u001b[39mllm_output, \u001b[38;5;241m*\u001b[39margs, \u001b[38;5;241m*\u001b[39m\u001b[38;5;241m*\u001b[39mkwargs)\n",
      "File \u001b[0;32m~/Development/anaconda3/envs/trailz-ai/lib/python3.12/site-packages/guardrails/hub_telemetry/hub_tracing.py:148\u001b[0m, in \u001b[0;36mtrace.<locals>.decorator.<locals>.wrapper\u001b[0;34m(*args, **kwargs)\u001b[0m\n\u001b[1;32m    145\u001b[0m \u001b[38;5;28;01mnonlocal\u001b[39;00m origin\n\u001b[1;32m    146\u001b[0m origin \u001b[38;5;241m=\u001b[39m origin \u001b[38;5;28;01mif\u001b[39;00m origin \u001b[38;5;129;01mis\u001b[39;00m \u001b[38;5;129;01mnot\u001b[39;00m \u001b[38;5;28;01mNone\u001b[39;00m \u001b[38;5;28;01melse\u001b[39;00m name\n\u001b[0;32m--> 148\u001b[0m resp \u001b[38;5;241m=\u001b[39m fn(\u001b[38;5;241m*\u001b[39margs, \u001b[38;5;241m*\u001b[39m\u001b[38;5;241m*\u001b[39mkwargs)\n\u001b[1;32m    149\u001b[0m add_attributes(\n\u001b[1;32m    150\u001b[0m     span, attrs, name, origin, \u001b[38;5;241m*\u001b[39margs, response\u001b[38;5;241m=\u001b[39mresp, \u001b[38;5;241m*\u001b[39m\u001b[38;5;241m*\u001b[39mkwargs\n\u001b[1;32m    151\u001b[0m )\n\u001b[1;32m    152\u001b[0m \u001b[38;5;28;01mreturn\u001b[39;00m resp\n",
      "File \u001b[0;32m~/Development/anaconda3/envs/trailz-ai/lib/python3.12/site-packages/guardrails/guard.py:1049\u001b[0m, in \u001b[0;36mGuard.parse\u001b[0;34m(self, llm_output, metadata, llm_api, num_reasks, prompt_params, full_schema_reask, *args, **kwargs)\u001b[0m\n\u001b[1;32m   1046\u001b[0m default_msg_history \u001b[38;5;241m=\u001b[39m \u001b[38;5;28mself\u001b[39m\u001b[38;5;241m.\u001b[39m_exec_opts\u001b[38;5;241m.\u001b[39mmsg_history \u001b[38;5;28;01mif\u001b[39;00m llm_api \u001b[38;5;28;01melse\u001b[39;00m \u001b[38;5;28;01mNone\u001b[39;00m\n\u001b[1;32m   1047\u001b[0m msg_history \u001b[38;5;241m=\u001b[39m kwargs\u001b[38;5;241m.\u001b[39mpop(\u001b[38;5;124m\"\u001b[39m\u001b[38;5;124mmsg_history\u001b[39m\u001b[38;5;124m\"\u001b[39m, default_msg_history)\n\u001b[0;32m-> 1049\u001b[0m \u001b[38;5;28;01mreturn\u001b[39;00m trace_guard_execution(\n\u001b[1;32m   1050\u001b[0m     \u001b[38;5;28mself\u001b[39m\u001b[38;5;241m.\u001b[39mname,\n\u001b[1;32m   1051\u001b[0m     \u001b[38;5;28mself\u001b[39m\u001b[38;5;241m.\u001b[39mhistory,\n\u001b[1;32m   1052\u001b[0m     \u001b[38;5;28mself\u001b[39m\u001b[38;5;241m.\u001b[39m_execute,  \u001b[38;5;66;03m# type: ignore # streams are supported for parse\u001b[39;00m\n\u001b[1;32m   1053\u001b[0m     \u001b[38;5;28mself\u001b[39m\u001b[38;5;241m.\u001b[39m_tracer,\n\u001b[1;32m   1054\u001b[0m     \u001b[38;5;241m*\u001b[39margs,\n\u001b[1;32m   1055\u001b[0m     llm_output\u001b[38;5;241m=\u001b[39mllm_output,\n\u001b[1;32m   1056\u001b[0m     llm_api\u001b[38;5;241m=\u001b[39mllm_api,\n\u001b[1;32m   1057\u001b[0m     prompt_params\u001b[38;5;241m=\u001b[39mprompt_params,\n\u001b[1;32m   1058\u001b[0m     num_reasks\u001b[38;5;241m=\u001b[39mfinal_num_reasks,\n\u001b[1;32m   1059\u001b[0m     prompt\u001b[38;5;241m=\u001b[39mprompt,\n\u001b[1;32m   1060\u001b[0m     instructions\u001b[38;5;241m=\u001b[39minstructions,\n\u001b[1;32m   1061\u001b[0m     msg_history\u001b[38;5;241m=\u001b[39mmsg_history,\n\u001b[1;32m   1062\u001b[0m     metadata\u001b[38;5;241m=\u001b[39mmetadata,\n\u001b[1;32m   1063\u001b[0m     full_schema_reask\u001b[38;5;241m=\u001b[39mfull_schema_reask,\n\u001b[1;32m   1064\u001b[0m     \u001b[38;5;241m*\u001b[39m\u001b[38;5;241m*\u001b[39mkwargs,\n\u001b[1;32m   1065\u001b[0m )\n",
      "File \u001b[0;32m~/Development/anaconda3/envs/trailz-ai/lib/python3.12/site-packages/guardrails/telemetry/guard_tracing.py:188\u001b[0m, in \u001b[0;36mtrace_guard_execution\u001b[0;34m(guard_name, history, _execute_fn, tracer, *args, **kwargs)\u001b[0m\n\u001b[1;32m    186\u001b[0m         \u001b[38;5;28;01mexcept\u001b[39;00m \u001b[38;5;167;01mException\u001b[39;00m \u001b[38;5;28;01mas\u001b[39;00m e:\n\u001b[1;32m    187\u001b[0m             guard_span\u001b[38;5;241m.\u001b[39mset_status(status\u001b[38;5;241m=\u001b[39mStatusCode\u001b[38;5;241m.\u001b[39mERROR, description\u001b[38;5;241m=\u001b[39m\u001b[38;5;28mstr\u001b[39m(e))\n\u001b[0;32m--> 188\u001b[0m             \u001b[38;5;28;01mraise\u001b[39;00m e\n\u001b[1;32m    189\u001b[0m \u001b[38;5;28;01melse\u001b[39;00m:\n\u001b[1;32m    190\u001b[0m     \u001b[38;5;28;01mreturn\u001b[39;00m _execute_fn(\u001b[38;5;241m*\u001b[39margs, \u001b[38;5;241m*\u001b[39m\u001b[38;5;241m*\u001b[39mkwargs)\n",
      "File \u001b[0;32m~/Development/anaconda3/envs/trailz-ai/lib/python3.12/site-packages/guardrails/telemetry/guard_tracing.py:178\u001b[0m, in \u001b[0;36mtrace_guard_execution\u001b[0;34m(guard_name, history, _execute_fn, tracer, *args, **kwargs)\u001b[0m\n\u001b[1;32m    175\u001b[0m guard_span\u001b[38;5;241m.\u001b[39mset_attribute(\u001b[38;5;124m\"\u001b[39m\u001b[38;5;124mguard.name\u001b[39m\u001b[38;5;124m\"\u001b[39m, guard_name)\n\u001b[1;32m    177\u001b[0m \u001b[38;5;28;01mtry\u001b[39;00m:\n\u001b[0;32m--> 178\u001b[0m     result \u001b[38;5;241m=\u001b[39m _execute_fn(\u001b[38;5;241m*\u001b[39margs, \u001b[38;5;241m*\u001b[39m\u001b[38;5;241m*\u001b[39mkwargs)\n\u001b[1;32m    179\u001b[0m     \u001b[38;5;28;01mif\u001b[39;00m \u001b[38;5;28misinstance\u001b[39m(result, Iterator) \u001b[38;5;129;01mand\u001b[39;00m \u001b[38;5;129;01mnot\u001b[39;00m \u001b[38;5;28misinstance\u001b[39m(\n\u001b[1;32m    180\u001b[0m         result, ValidationOutcome\n\u001b[1;32m    181\u001b[0m     ):\n\u001b[1;32m    182\u001b[0m         \u001b[38;5;28;01mreturn\u001b[39;00m trace_stream_guard(guard_span, result, history)\n",
      "File \u001b[0;32m~/Development/anaconda3/envs/trailz-ai/lib/python3.12/site-packages/guardrails/guard.py:856\u001b[0m, in \u001b[0;36mGuard._execute\u001b[0;34m(self, llm_api, llm_output, prompt_params, num_reasks, prompt, instructions, msg_history, reask_prompt, reask_instructions, metadata, full_schema_reask, *args, **kwargs)\u001b[0m\n\u001b[1;32m    853\u001b[0m current_otel_context \u001b[38;5;241m=\u001b[39m otel_context\u001b[38;5;241m.\u001b[39mget_current()\n\u001b[1;32m    854\u001b[0m wrapped__exec \u001b[38;5;241m=\u001b[39m wrap_with_otel_context(current_otel_context, __exec)\n\u001b[0;32m--> 856\u001b[0m \u001b[38;5;28;01mreturn\u001b[39;00m guard_context\u001b[38;5;241m.\u001b[39mrun(\n\u001b[1;32m    857\u001b[0m     wrapped__exec,\n\u001b[1;32m    858\u001b[0m     \u001b[38;5;28mself\u001b[39m,\n\u001b[1;32m    859\u001b[0m     llm_api\u001b[38;5;241m=\u001b[39mllm_api,\n\u001b[1;32m    860\u001b[0m     llm_output\u001b[38;5;241m=\u001b[39mllm_output,\n\u001b[1;32m    861\u001b[0m     prompt_params\u001b[38;5;241m=\u001b[39mprompt_params,\n\u001b[1;32m    862\u001b[0m     num_reasks\u001b[38;5;241m=\u001b[39mnum_reasks,\n\u001b[1;32m    863\u001b[0m     prompt\u001b[38;5;241m=\u001b[39mprompt,\n\u001b[1;32m    864\u001b[0m     instructions\u001b[38;5;241m=\u001b[39minstructions,\n\u001b[1;32m    865\u001b[0m     msg_history\u001b[38;5;241m=\u001b[39mmsg_history,\n\u001b[1;32m    866\u001b[0m     metadata\u001b[38;5;241m=\u001b[39mmetadata,\n\u001b[1;32m    867\u001b[0m     full_schema_reask\u001b[38;5;241m=\u001b[39mfull_schema_reask,\n\u001b[1;32m    868\u001b[0m     \u001b[38;5;241m*\u001b[39margs,\n\u001b[1;32m    869\u001b[0m     \u001b[38;5;241m*\u001b[39m\u001b[38;5;241m*\u001b[39mkwargs,\n\u001b[1;32m    870\u001b[0m )\n",
      "File \u001b[0;32m~/Development/anaconda3/envs/trailz-ai/lib/python3.12/site-packages/guardrails/telemetry/common.py:100\u001b[0m, in \u001b[0;36mwrap_with_otel_context.<locals>.wrapped_func\u001b[0;34m(*args, **kwargs)\u001b[0m\n\u001b[1;32m     97\u001b[0m token \u001b[38;5;241m=\u001b[39m context\u001b[38;5;241m.\u001b[39mattach(outer_scope_otel_context)\n\u001b[1;32m     98\u001b[0m \u001b[38;5;28;01mtry\u001b[39;00m:\n\u001b[1;32m     99\u001b[0m     \u001b[38;5;66;03m# Execute 'func' within the attached context\u001b[39;00m\n\u001b[0;32m--> 100\u001b[0m     \u001b[38;5;28;01mreturn\u001b[39;00m func(\u001b[38;5;241m*\u001b[39margs, \u001b[38;5;241m*\u001b[39m\u001b[38;5;241m*\u001b[39mkwargs)\n\u001b[1;32m    101\u001b[0m \u001b[38;5;28;01mfinally\u001b[39;00m:\n\u001b[1;32m    102\u001b[0m     \u001b[38;5;66;03m# Ensure the context is detached after execution\u001b[39;00m\n\u001b[1;32m    103\u001b[0m     \u001b[38;5;66;03m#   to maintain correct context management\u001b[39;00m\n\u001b[1;32m    104\u001b[0m     context\u001b[38;5;241m.\u001b[39mdetach(token)\n",
      "File \u001b[0;32m~/Development/anaconda3/envs/trailz-ai/lib/python3.12/site-packages/guardrails/guard.py:833\u001b[0m, in \u001b[0;36mGuard._execute.<locals>.__exec\u001b[0;34m(self, llm_api, llm_output, prompt_params, num_reasks, prompt, instructions, msg_history, metadata, full_schema_reask, *args, **kwargs)\u001b[0m\n\u001b[1;32m    831\u001b[0m \u001b[38;5;28mself\u001b[39m\u001b[38;5;241m.\u001b[39mhistory\u001b[38;5;241m.\u001b[39mpush(call_log)\n\u001b[1;32m    832\u001b[0m \u001b[38;5;66;03m# Otherwise, call the LLM synchronously\u001b[39;00m\n\u001b[0;32m--> 833\u001b[0m \u001b[38;5;28;01mreturn\u001b[39;00m \u001b[38;5;28mself\u001b[39m\u001b[38;5;241m.\u001b[39m_exec(\n\u001b[1;32m    834\u001b[0m     llm_api\u001b[38;5;241m=\u001b[39mllm_api,\n\u001b[1;32m    835\u001b[0m     llm_output\u001b[38;5;241m=\u001b[39mllm_output,\n\u001b[1;32m    836\u001b[0m     prompt_params\u001b[38;5;241m=\u001b[39mprompt_params,\n\u001b[1;32m    837\u001b[0m     num_reasks\u001b[38;5;241m=\u001b[39m\u001b[38;5;28mself\u001b[39m\u001b[38;5;241m.\u001b[39m_num_reasks,\n\u001b[1;32m    838\u001b[0m     prompt\u001b[38;5;241m=\u001b[39mprompt,\n\u001b[1;32m    839\u001b[0m     instructions\u001b[38;5;241m=\u001b[39minstructions,\n\u001b[1;32m    840\u001b[0m     msg_history\u001b[38;5;241m=\u001b[39mmsg_history,\n\u001b[1;32m    841\u001b[0m     metadata\u001b[38;5;241m=\u001b[39mmetadata,\n\u001b[1;32m    842\u001b[0m     full_schema_reask\u001b[38;5;241m=\u001b[39mfull_schema_reask,\n\u001b[1;32m    843\u001b[0m     call_log\u001b[38;5;241m=\u001b[39mcall_log,\n\u001b[1;32m    844\u001b[0m     \u001b[38;5;241m*\u001b[39margs,\n\u001b[1;32m    845\u001b[0m     \u001b[38;5;241m*\u001b[39m\u001b[38;5;241m*\u001b[39mkwargs,\n\u001b[1;32m    846\u001b[0m )\n",
      "File \u001b[0;32m~/Development/anaconda3/envs/trailz-ai/lib/python3.12/site-packages/guardrails/guard.py:942\u001b[0m, in \u001b[0;36mGuard._exec\u001b[0;34m(self, llm_api, llm_output, call_log, prompt_params, num_reasks, metadata, full_schema_reask, prompt, instructions, msg_history, *args, **kwargs)\u001b[0m\n\u001b[1;32m    920\u001b[0m \u001b[38;5;28;01melse\u001b[39;00m:\n\u001b[1;32m    921\u001b[0m     \u001b[38;5;66;03m# Otherwise, use Runner\u001b[39;00m\n\u001b[1;32m    922\u001b[0m     runner \u001b[38;5;241m=\u001b[39m Runner(\n\u001b[1;32m    923\u001b[0m         output_type\u001b[38;5;241m=\u001b[39m\u001b[38;5;28mself\u001b[39m\u001b[38;5;241m.\u001b[39m_output_type,\n\u001b[1;32m    924\u001b[0m         output_schema\u001b[38;5;241m=\u001b[39m\u001b[38;5;28mself\u001b[39m\u001b[38;5;241m.\u001b[39moutput_schema\u001b[38;5;241m.\u001b[39mto_dict(),\n\u001b[0;32m   (...)\u001b[0m\n\u001b[1;32m    940\u001b[0m         exec_options\u001b[38;5;241m=\u001b[39m\u001b[38;5;28mself\u001b[39m\u001b[38;5;241m.\u001b[39m_exec_opts,\n\u001b[1;32m    941\u001b[0m     )\n\u001b[0;32m--> 942\u001b[0m     call \u001b[38;5;241m=\u001b[39m runner(call_log\u001b[38;5;241m=\u001b[39mcall_log, prompt_params\u001b[38;5;241m=\u001b[39mprompt_params)\n\u001b[1;32m    943\u001b[0m     \u001b[38;5;28;01mreturn\u001b[39;00m ValidationOutcome[OT]\u001b[38;5;241m.\u001b[39mfrom_guard_history(call)\n",
      "File \u001b[0;32m~/Development/anaconda3/envs/trailz-ai/lib/python3.12/site-packages/guardrails/hub_telemetry/hub_tracing.py:148\u001b[0m, in \u001b[0;36mtrace.<locals>.decorator.<locals>.wrapper\u001b[0;34m(*args, **kwargs)\u001b[0m\n\u001b[1;32m    145\u001b[0m \u001b[38;5;28;01mnonlocal\u001b[39;00m origin\n\u001b[1;32m    146\u001b[0m origin \u001b[38;5;241m=\u001b[39m origin \u001b[38;5;28;01mif\u001b[39;00m origin \u001b[38;5;129;01mis\u001b[39;00m \u001b[38;5;129;01mnot\u001b[39;00m \u001b[38;5;28;01mNone\u001b[39;00m \u001b[38;5;28;01melse\u001b[39;00m name\n\u001b[0;32m--> 148\u001b[0m resp \u001b[38;5;241m=\u001b[39m fn(\u001b[38;5;241m*\u001b[39margs, \u001b[38;5;241m*\u001b[39m\u001b[38;5;241m*\u001b[39mkwargs)\n\u001b[1;32m    149\u001b[0m add_attributes(\n\u001b[1;32m    150\u001b[0m     span, attrs, name, origin, \u001b[38;5;241m*\u001b[39margs, response\u001b[38;5;241m=\u001b[39mresp, \u001b[38;5;241m*\u001b[39m\u001b[38;5;241m*\u001b[39mkwargs\n\u001b[1;32m    151\u001b[0m )\n\u001b[1;32m    152\u001b[0m \u001b[38;5;28;01mreturn\u001b[39;00m resp\n",
      "File \u001b[0;32m~/Development/anaconda3/envs/trailz-ai/lib/python3.12/site-packages/guardrails/run/runner.py:234\u001b[0m, in \u001b[0;36mRunner.__call__\u001b[0;34m(self, call_log, prompt_params)\u001b[0m\n\u001b[1;32m    231\u001b[0m \u001b[38;5;28;01mexcept\u001b[39;00m \u001b[38;5;167;01mException\u001b[39;00m \u001b[38;5;28;01mas\u001b[39;00m e:\n\u001b[1;32m    232\u001b[0m     \u001b[38;5;66;03m# Because Pydantic v1 doesn't respect property setters\u001b[39;00m\n\u001b[1;32m    233\u001b[0m     call_log\u001b[38;5;241m.\u001b[39mexception \u001b[38;5;241m=\u001b[39m e\n\u001b[0;32m--> 234\u001b[0m     \u001b[38;5;28;01mraise\u001b[39;00m e\n\u001b[1;32m    235\u001b[0m \u001b[38;5;28;01mreturn\u001b[39;00m call_log\n",
      "File \u001b[0;32m~/Development/anaconda3/envs/trailz-ai/lib/python3.12/site-packages/guardrails/run/runner.py:199\u001b[0m, in \u001b[0;36mRunner.__call__\u001b[0;34m(self, call_log, prompt_params)\u001b[0m\n\u001b[1;32m    196\u001b[0m index \u001b[38;5;241m=\u001b[39m \u001b[38;5;241m0\u001b[39m\n\u001b[1;32m    197\u001b[0m \u001b[38;5;28;01mfor\u001b[39;00m index \u001b[38;5;129;01min\u001b[39;00m \u001b[38;5;28mrange\u001b[39m(\u001b[38;5;28mself\u001b[39m\u001b[38;5;241m.\u001b[39mnum_reasks \u001b[38;5;241m+\u001b[39m \u001b[38;5;241m1\u001b[39m):\n\u001b[1;32m    198\u001b[0m     \u001b[38;5;66;03m# Run a single step.\u001b[39;00m\n\u001b[0;32m--> 199\u001b[0m     iteration \u001b[38;5;241m=\u001b[39m \u001b[38;5;28mself\u001b[39m\u001b[38;5;241m.\u001b[39mstep(\n\u001b[1;32m    200\u001b[0m         index\u001b[38;5;241m=\u001b[39mindex,\n\u001b[1;32m    201\u001b[0m         api\u001b[38;5;241m=\u001b[39m\u001b[38;5;28mself\u001b[39m\u001b[38;5;241m.\u001b[39mapi,\n\u001b[1;32m    202\u001b[0m         instructions\u001b[38;5;241m=\u001b[39minstructions,\n\u001b[1;32m    203\u001b[0m         prompt\u001b[38;5;241m=\u001b[39mprompt,\n\u001b[1;32m    204\u001b[0m         msg_history\u001b[38;5;241m=\u001b[39mmsg_history,\n\u001b[1;32m    205\u001b[0m         prompt_params\u001b[38;5;241m=\u001b[39mprompt_params,\n\u001b[1;32m    206\u001b[0m         output_schema\u001b[38;5;241m=\u001b[39moutput_schema,\n\u001b[1;32m    207\u001b[0m         output\u001b[38;5;241m=\u001b[39m\u001b[38;5;28mself\u001b[39m\u001b[38;5;241m.\u001b[39moutput \u001b[38;5;28;01mif\u001b[39;00m index \u001b[38;5;241m==\u001b[39m \u001b[38;5;241m0\u001b[39m \u001b[38;5;28;01melse\u001b[39;00m \u001b[38;5;28;01mNone\u001b[39;00m,\n\u001b[1;32m    208\u001b[0m         call_log\u001b[38;5;241m=\u001b[39mcall_log,\n\u001b[1;32m    209\u001b[0m     )\n\u001b[1;32m    211\u001b[0m     \u001b[38;5;66;03m# Loop again?\u001b[39;00m\n\u001b[1;32m    212\u001b[0m     \u001b[38;5;28;01mif\u001b[39;00m \u001b[38;5;129;01mnot\u001b[39;00m \u001b[38;5;28mself\u001b[39m\u001b[38;5;241m.\u001b[39mdo_loop(index, iteration\u001b[38;5;241m.\u001b[39mreasks):\n",
      "File \u001b[0;32m~/Development/anaconda3/envs/trailz-ai/lib/python3.12/site-packages/guardrails/hub_telemetry/hub_tracing.py:148\u001b[0m, in \u001b[0;36mtrace.<locals>.decorator.<locals>.wrapper\u001b[0;34m(*args, **kwargs)\u001b[0m\n\u001b[1;32m    145\u001b[0m \u001b[38;5;28;01mnonlocal\u001b[39;00m origin\n\u001b[1;32m    146\u001b[0m origin \u001b[38;5;241m=\u001b[39m origin \u001b[38;5;28;01mif\u001b[39;00m origin \u001b[38;5;129;01mis\u001b[39;00m \u001b[38;5;129;01mnot\u001b[39;00m \u001b[38;5;28;01mNone\u001b[39;00m \u001b[38;5;28;01melse\u001b[39;00m name\n\u001b[0;32m--> 148\u001b[0m resp \u001b[38;5;241m=\u001b[39m fn(\u001b[38;5;241m*\u001b[39margs, \u001b[38;5;241m*\u001b[39m\u001b[38;5;241m*\u001b[39mkwargs)\n\u001b[1;32m    149\u001b[0m add_attributes(\n\u001b[1;32m    150\u001b[0m     span, attrs, name, origin, \u001b[38;5;241m*\u001b[39margs, response\u001b[38;5;241m=\u001b[39mresp, \u001b[38;5;241m*\u001b[39m\u001b[38;5;241m*\u001b[39mkwargs\n\u001b[1;32m    151\u001b[0m )\n\u001b[1;32m    152\u001b[0m \u001b[38;5;28;01mreturn\u001b[39;00m resp\n",
      "File \u001b[0;32m~/Development/anaconda3/envs/trailz-ai/lib/python3.12/site-packages/guardrails/telemetry/runner_tracing.py:85\u001b[0m, in \u001b[0;36mtrace_step.<locals>.trace_step_wrapper\u001b[0;34m(*args, **kwargs)\u001b[0m\n\u001b[1;32m     83\u001b[0m             add_step_attributes(step_span, \u001b[38;5;28;01mNone\u001b[39;00m, \u001b[38;5;241m*\u001b[39margs, \u001b[38;5;241m*\u001b[39m\u001b[38;5;241m*\u001b[39mkwargs)\n\u001b[1;32m     84\u001b[0m             add_user_attributes(step_span)\n\u001b[0;32m---> 85\u001b[0m             \u001b[38;5;28;01mraise\u001b[39;00m e\n\u001b[1;32m     86\u001b[0m \u001b[38;5;28;01melse\u001b[39;00m:\n\u001b[1;32m     87\u001b[0m     \u001b[38;5;28;01mreturn\u001b[39;00m fn(\u001b[38;5;241m*\u001b[39margs, \u001b[38;5;241m*\u001b[39m\u001b[38;5;241m*\u001b[39mkwargs)\n",
      "File \u001b[0;32m~/Development/anaconda3/envs/trailz-ai/lib/python3.12/site-packages/guardrails/telemetry/runner_tracing.py:77\u001b[0m, in \u001b[0;36mtrace_step.<locals>.trace_step_wrapper\u001b[0;34m(*args, **kwargs)\u001b[0m\n\u001b[1;32m     72\u001b[0m \u001b[38;5;28;01mwith\u001b[39;00m tracer\u001b[38;5;241m.\u001b[39mstart_as_current_span(\n\u001b[1;32m     73\u001b[0m     name\u001b[38;5;241m=\u001b[39m\u001b[38;5;124m\"\u001b[39m\u001b[38;5;124mstep\u001b[39m\u001b[38;5;124m\"\u001b[39m,  \u001b[38;5;66;03m# type: ignore\u001b[39;00m\n\u001b[1;32m     74\u001b[0m     context\u001b[38;5;241m=\u001b[39mcurrent_otel_context,  \u001b[38;5;66;03m# type: ignore\u001b[39;00m\n\u001b[1;32m     75\u001b[0m ) \u001b[38;5;28;01mas\u001b[39;00m step_span:\n\u001b[1;32m     76\u001b[0m     \u001b[38;5;28;01mtry\u001b[39;00m:\n\u001b[0;32m---> 77\u001b[0m         response \u001b[38;5;241m=\u001b[39m fn(\u001b[38;5;241m*\u001b[39margs, \u001b[38;5;241m*\u001b[39m\u001b[38;5;241m*\u001b[39mkwargs)\n\u001b[1;32m     78\u001b[0m         add_step_attributes(step_span, response, \u001b[38;5;241m*\u001b[39margs, \u001b[38;5;241m*\u001b[39m\u001b[38;5;241m*\u001b[39mkwargs)\n\u001b[1;32m     79\u001b[0m         add_user_attributes(step_span)\n",
      "File \u001b[0;32m~/Development/anaconda3/envs/trailz-ai/lib/python3.12/site-packages/guardrails/run/runner.py:254\u001b[0m, in \u001b[0;36mRunner.step\u001b[0;34m(self, index, output_schema, call_log, api, instructions, prompt, msg_history, prompt_params, output)\u001b[0m\n\u001b[1;32m    252\u001b[0m \u001b[38;5;250m\u001b[39m\u001b[38;5;124;03m\"\"\"Run a full step.\"\"\"\u001b[39;00m\n\u001b[1;32m    253\u001b[0m prompt_params \u001b[38;5;241m=\u001b[39m prompt_params \u001b[38;5;129;01mor\u001b[39;00m {}\n\u001b[0;32m--> 254\u001b[0m inputs \u001b[38;5;241m=\u001b[39m Inputs(\n\u001b[1;32m    255\u001b[0m     llm_api\u001b[38;5;241m=\u001b[39mapi,\n\u001b[1;32m    256\u001b[0m     llm_output\u001b[38;5;241m=\u001b[39moutput,\n\u001b[1;32m    257\u001b[0m     instructions\u001b[38;5;241m=\u001b[39minstructions,\n\u001b[1;32m    258\u001b[0m     prompt\u001b[38;5;241m=\u001b[39mprompt,\n\u001b[1;32m    259\u001b[0m     msg_history\u001b[38;5;241m=\u001b[39mmsg_history,\n\u001b[1;32m    260\u001b[0m     prompt_params\u001b[38;5;241m=\u001b[39mprompt_params,\n\u001b[1;32m    261\u001b[0m     num_reasks\u001b[38;5;241m=\u001b[39m\u001b[38;5;28mself\u001b[39m\u001b[38;5;241m.\u001b[39mnum_reasks,\n\u001b[1;32m    262\u001b[0m     metadata\u001b[38;5;241m=\u001b[39m\u001b[38;5;28mself\u001b[39m\u001b[38;5;241m.\u001b[39mmetadata,\n\u001b[1;32m    263\u001b[0m     full_schema_reask\u001b[38;5;241m=\u001b[39m\u001b[38;5;28mself\u001b[39m\u001b[38;5;241m.\u001b[39mfull_schema_reask,\n\u001b[1;32m    264\u001b[0m )\n\u001b[1;32m    265\u001b[0m outputs \u001b[38;5;241m=\u001b[39m Outputs()\n\u001b[1;32m    266\u001b[0m iteration \u001b[38;5;241m=\u001b[39m Iteration(\n\u001b[1;32m    267\u001b[0m     call_id\u001b[38;5;241m=\u001b[39mcall_log\u001b[38;5;241m.\u001b[39mid, index\u001b[38;5;241m=\u001b[39mindex, inputs\u001b[38;5;241m=\u001b[39minputs, outputs\u001b[38;5;241m=\u001b[39moutputs\n\u001b[1;32m    268\u001b[0m )\n",
      "File \u001b[0;32m~/Development/anaconda3/envs/trailz-ai/lib/python3.12/site-packages/pydantic/main.py:212\u001b[0m, in \u001b[0;36mBaseModel.__init__\u001b[0;34m(self, **data)\u001b[0m\n\u001b[1;32m    210\u001b[0m \u001b[38;5;66;03m# `__tracebackhide__` tells pytest and some other tools to omit this function from tracebacks\u001b[39;00m\n\u001b[1;32m    211\u001b[0m __tracebackhide__ \u001b[38;5;241m=\u001b[39m \u001b[38;5;28;01mTrue\u001b[39;00m\n\u001b[0;32m--> 212\u001b[0m validated_self \u001b[38;5;241m=\u001b[39m \u001b[38;5;28mself\u001b[39m\u001b[38;5;241m.\u001b[39m__pydantic_validator__\u001b[38;5;241m.\u001b[39mvalidate_python(data, self_instance\u001b[38;5;241m=\u001b[39m\u001b[38;5;28mself\u001b[39m)\n\u001b[1;32m    213\u001b[0m \u001b[38;5;28;01mif\u001b[39;00m \u001b[38;5;28mself\u001b[39m \u001b[38;5;129;01mis\u001b[39;00m \u001b[38;5;129;01mnot\u001b[39;00m validated_self:\n\u001b[1;32m    214\u001b[0m     warnings\u001b[38;5;241m.\u001b[39mwarn(\n\u001b[1;32m    215\u001b[0m         \u001b[38;5;124m'\u001b[39m\u001b[38;5;124mA custom validator is returning a value other than `self`.\u001b[39m\u001b[38;5;130;01m\\n\u001b[39;00m\u001b[38;5;124m'\u001b[39m\n\u001b[1;32m    216\u001b[0m         \u001b[38;5;124m\"\u001b[39m\u001b[38;5;124mReturning anything other than `self` from a top level model validator isn\u001b[39m\u001b[38;5;124m'\u001b[39m\u001b[38;5;124mt supported when validating via `__init__`.\u001b[39m\u001b[38;5;130;01m\\n\u001b[39;00m\u001b[38;5;124m\"\u001b[39m\n\u001b[1;32m    217\u001b[0m         \u001b[38;5;124m'\u001b[39m\u001b[38;5;124mSee the `model_validator` docs (https://docs.pydantic.dev/latest/concepts/validators/#model-validators) for more details.\u001b[39m\u001b[38;5;124m'\u001b[39m,\n\u001b[1;32m    218\u001b[0m         category\u001b[38;5;241m=\u001b[39m\u001b[38;5;28;01mNone\u001b[39;00m,\n\u001b[1;32m    219\u001b[0m     )\n",
      "\u001b[0;31mValidationError\u001b[0m: 1 validation error for Inputs\nllm_output\n  Input should be a valid string [type=string_type, input_value={'name': 'John Doe', 'email': 'john@doe.com'}, input_type=dict]\n    For further information visit https://errors.pydantic.dev/2.9/v/string_type"
     ]
    }
   ],
   "source": [
    "from guardrails import Guard\n",
    "\n",
    "data = {\n",
    "    \"name\": \"John Doe\",\n",
    "    \"email\": \"john@doe.com\"\n",
    "}\n",
    "guard = Guard.for_pydantic(Data)\n",
    "guard.validate(data)\n"
   ]
  },
  {
   "cell_type": "code",
   "execution_count": 18,
   "id": "5b6222e7-09d3-4292-8004-13b0b44b4181",
   "metadata": {},
   "outputs": [],
   "source": [
    "from pydantic import BaseModel, validator"
   ]
  },
  {
   "cell_type": "code",
   "execution_count": null,
   "id": "a731b878-399d-4be8-b2e5-745b418e43fa",
   "metadata": {},
   "outputs": [],
   "source": []
  }
 ],
 "metadata": {
  "kernelspec": {
   "display_name": "Python 3 (ipykernel)",
   "language": "python",
   "name": "python3"
  },
  "language_info": {
   "codemirror_mode": {
    "name": "ipython",
    "version": 3
   },
   "file_extension": ".py",
   "mimetype": "text/x-python",
   "name": "python",
   "nbconvert_exporter": "python",
   "pygments_lexer": "ipython3",
   "version": "3.12.7"
  }
 },
 "nbformat": 4,
 "nbformat_minor": 5
}
